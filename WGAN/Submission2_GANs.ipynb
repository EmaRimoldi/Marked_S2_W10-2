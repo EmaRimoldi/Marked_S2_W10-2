{
 "cells": [
  {
   "cell_type": "markdown",
   "metadata": {
    "id": "eyNt275r0wv7"
   },
   "source": [
    "# Marked exercises after Lecture 10 on GANs\n",
    "\n",
    "This notebook contains the marked exercises with instructions and explanations.\n",
    "\n",
    "Work through the cells below in sequential order, executing each cell as you progress. Follow the instructions and write the code to complete the tasks. No code implementation is required in this notebook file. This notebook serves as the main file for the marked exercise and contains  the  code for initialising the models, initialising the dataset, setting the hyperparameters for training, and training the model. Throughout the exercise, you will encounter instructions marked with the words **YOUR CODE HERE** followed by **raise NotImplementedError()**. You will have to substitute  *raise NotImplementedError()* with your own code. \n",
    "\n",
    "Along the way, you may also find questions. Try to reflect on the questions before/after running the code.\n",
    "\n",
    "**IMPORTANT NOTE**: You are **NOT ALLOWED** to change the code that we provide. All of the definitions of functions and all the hyperparameters should be kept as they are. You are NOT allowed to create new functions and you are ONLY allowed to write your code wherever you see *raise NotImplementedError()*. \n",
    "\n",
    "This notebook was developed at the [Idiap Research Institute](https://www.idiap.ch) by [Alina Elena Baia](mailto:alina.baia.idiap.ch>), [Darya Baranouskaya](mailto:darya.baranouskaya.idiap.ch) and [Olena Hrynenko](mailto:olena.hrynenko.idiap.ch) (equal contribution).\n",
    "<!--\n",
    "SPDX-FileCopyrightText: Copyright (c) 2024 Idiap Research Institute <contact@idiap.ch>\n",
    "SPDX-FileContributor: Alina Elena Baia <alina.baia.idiap.ch>\n",
    "SPDX-FileContributor: Darya Baranouskaya <darya.baranouskaya.idiap.ch>\n",
    "SPDX-FileContributor: Olena Hrynenko <olena.hrynenko.idiap.ch>\n",
    "-->"
   ]
  },
  {
   "cell_type": "markdown",
   "metadata": {
    "collapsed": false,
    "jupyter": {
     "outputs_hidden": false
    },
    "pycharm": {
     "name": "#%% md\n"
    }
   },
   "source": [
    "You are asked to complete the following tasks related to completing the implementation of a GAN training function and training\n",
    "WGAN [17 points]\n",
    " - 2.10.1 [2 points] Implement weight clamping in `trainer.py: def clamp_weights(self)`\n",
    " - 2.10.2 [5 points] Implement Discriminator update step in `trainer.py: def disc_step(self, z, real_images)`.\n",
    " - 2.10.3 [5 points] Implement Generator update step in `trainer.py: def gen_step(self)`.\n",
    " - 2.10.4 [5 points] Complete the call of `disc_step()` and `gen_step()` in `train_epoch()` in `trainer.py`. Train your WGAN for 8 epochs. Report the generated images."
   ]
  },
  {
   "cell_type": "code",
   "execution_count": null,
   "metadata": {
    "collapsed": false,
    "jupyter": {
     "outputs_hidden": false
    },
    "pycharm": {
     "name": "#%%\n"
    }
   },
   "outputs": [],
   "source": [
    "%load_ext autoreload\n",
    "%autoreload 2"
   ]
  },
  {
   "cell_type": "code",
   "execution_count": null,
   "metadata": {
    "collapsed": false,
    "jupyter": {
     "outputs_hidden": false
    },
    "pycharm": {
     "name": "#%%\n"
    }
   },
   "outputs": [],
   "source": [
    "import torch\n",
    "import torchvision.datasets as datasets\n",
    "import torchvision.transforms as transforms\n",
    "from model import Generator, Discriminator, weights_init\n",
    "from trainer import WGANTrainer\n",
    "\n",
    "import getpass\n",
    "import os\n",
    "import random\n",
    "import re\n",
    "import tarfile\n",
    "import time\n",
    "\n",
    "torch.manual_seed(42)"
   ]
  },
  {
   "cell_type": "markdown",
   "metadata": {
    "collapsed": false,
    "jupyter": {
     "outputs_hidden": false
    },
    "pycharm": {
     "name": "#%% md\n"
    }
   },
   "source": [
    "#### Dataset"
   ]
  },
  {
   "cell_type": "code",
   "execution_count": null,
   "metadata": {},
   "outputs": [],
   "source": [
    "#For efficient usage of the hardware resources when running on JupyterHub EPFL,\n",
    "# we will limit the number of threads. \n",
    "if getpass.getuser() == \"jovyan\":\n",
    "    num_threads_limit = 4\n",
    "elif re.search(f'^https://.*noto.*\\.epfl\\.ch$', os.environ.get(\"EXTERNAL_URL\", \"\")) != None:\n",
    "    num_threads_limit = 2\n",
    "else:\n",
    "    num_threads_limit = torch.get_num_threads()\n",
    "print(f\"Limiting the number of threads to {num_threads_limit}\")\n",
    "torch.set_num_threads(num_threads_limit)\n",
    "print(f\"PyTorch is using {torch.get_num_threads()} threads\")\n",
    "\n",
    "_ = torch.set_flush_denormal(True) # To avoid long training time on CPU"
   ]
  },
  {
   "cell_type": "code",
   "execution_count": null,
   "metadata": {
    "collapsed": false,
    "jupyter": {
     "outputs_hidden": false
    },
    "pycharm": {
     "name": "#%%\n"
    }
   },
   "outputs": [],
   "source": [
    "def load_fashion_mnist_dataset(batch_size):\n",
    "    transforms_fashion_mnist = transforms.Compose([\n",
    "        transforms.Resize(32),\n",
    "        transforms.ToTensor(),\n",
    "        transforms.Normalize(mean=[0.5], std=[0.5]),\n",
    "    ])\n",
    "    dataset = datasets.FashionMNIST(root='/EE559-shared/', train=True, download=False, transform=transforms_fashion_mnist)\n",
    "    # For testing your implementation, we recommend using a subset of the dataset to save images more often,\n",
    "    # although that would be reflected in the quality of the generated images\n",
    "    from torch.utils.data import Subset\n",
    "    dataset = Subset(dataset, range(40000))\n",
    "    dataloader = torch.utils.data.DataLoader(dataset, batch_size=batch_size, shuffle=True)\n",
    "    return dataloader"
   ]
  },
  {
   "cell_type": "markdown",
   "metadata": {
    "collapsed": false,
    "jupyter": {
     "outputs_hidden": false
    },
    "pycharm": {
     "name": "#%% md\n"
    }
   },
   "source": [
    "#### Train the model"
   ]
  },
  {
   "cell_type": "code",
   "execution_count": null,
   "metadata": {
    "collapsed": false,
    "jupyter": {
     "outputs_hidden": false
    },
    "pycharm": {
     "name": "#%%\n"
    }
   },
   "outputs": [],
   "source": [
    "device = torch.device(\"cuda\" if torch.cuda.is_available() else \"cpu\")\n",
    "\n",
    "# You are NOT allowed to change hyperparameters\n",
    "lr_gen = 0.00007\n",
    "lr_disc = 0.00005\n",
    "batch_size = 64\n",
    "weight_cliping_limit = 0.01\n",
    "n_critic_steps = 2\n",
    "n_image_channels = 1  #3 if RGB and 1 if Greyscale\n",
    "\n",
    "gen = Generator(in_channels=100, out_channels=n_image_channels)\n",
    "disc = Discriminator(in_channels=n_image_channels)\n",
    "\n",
    "print(gen.apply(weights_init))\n",
    "print(disc.apply(weights_init))\n",
    "\n",
    "gen.to(device)\n",
    "disc.to(device)\n",
    "\n",
    "# assert for you to check the correctness of the sizes of models outputs\n",
    "z = torch.rand((4, 100, 1, 1), device=device)\n",
    "fake_image = gen(z)\n",
    "assert list(fake_image.shape) == [4, n_image_channels, 32, 32]\n",
    "assert list(disc(fake_image).shape) == [4, 1, 1, 1]\n",
    "\n",
    "\n",
    "# WGAN with gradient clipping uses RMSprop instead of ADAM\n",
    "optimizer_gen = torch.optim.RMSprop(gen.parameters(), lr=lr_gen)\n",
    "optimizer_disc = torch.optim.RMSprop(disc.parameters(), lr=lr_disc)\n",
    "\n",
    "train_loader = load_fashion_mnist_dataset(batch_size)\n",
    "\n",
    "#initialise the trainer\n",
    "trainer = WGANTrainer(model_gen=gen, model_disc=disc,\n",
    "                        optimizer_gen=optimizer_gen, optimizer_disc=optimizer_disc,\n",
    "                        n_disc_steps=n_critic_steps, weight_cliping=weight_cliping_limit, device=device)\n",
    "\n",
    "#train WGAN\n",
    "trainer.train(n_epoches=8, train_loader=train_loader)\n"
   ]
  }
 ],
 "metadata": {
  "accelerator": "GPU",
  "colab": {
   "gpuType": "T4",
   "provenance": []
  },
  "kernelspec": {
   "display_name": "Python3",
   "language": "python",
   "name": "python3"
  },
  "language_info": {
   "codemirror_mode": {
    "name": "ipython",
    "version": 3
   },
   "file_extension": ".py",
   "mimetype": "text/x-python",
   "name": "python",
   "nbconvert_exporter": "python",
   "pygments_lexer": "ipython3",
   "version": "3.12.8"
  }
 },
 "nbformat": 4,
 "nbformat_minor": 4
}
